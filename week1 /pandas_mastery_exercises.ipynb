{
  "cells": [
    {
      "cell_type": "markdown",
      "metadata": {
        "id": "view-in-github",
        "colab_type": "text"
      },
      "source": [
        "<a href=\"https://colab.research.google.com/github/HaifaAteeq/phase1/blob/main/week1%20/pandas_mastery_exercises.ipynb\" target=\"_parent\"><img src=\"https://colab.research.google.com/assets/colab-badge.svg\" alt=\"Open In Colab\"/></a>"
      ]
    },
    {
      "cell_type": "markdown",
      "metadata": {
        "id": "l26Vu0n8tP79"
      },
      "source": [
        "# 🐼 Pandas Mastery Exercises\n",
        "---\n",
        "This notebook contains practice exercises to master pandas step by step."
      ],
      "id": "l26Vu0n8tP79"
    },
    {
      "cell_type": "markdown",
      "metadata": {
        "id": "Fg6fjApqtP8H"
      },
      "source": [
        "## 1. Importing Data"
      ],
      "id": "Fg6fjApqtP8H"
    },
    {
      "cell_type": "code",
      "metadata": {
        "id": "M7mNMrIjtP8J"
      },
      "source": [
        "import pandas as pd\n",
        "# TODO: Load CSV, Excel, JSON, Parquet using appropriate functions\n",
        "# Example: df = pd.read_csv('sample.csv')"
      ],
      "outputs": [],
      "execution_count": null,
      "id": "M7mNMrIjtP8J"
    },
    {
      "cell_type": "markdown",
      "metadata": {
        "id": "HyceP9l_tP8M"
      },
      "source": [
        "## 2. Inspecting & Exploring Data"
      ],
      "id": "HyceP9l_tP8M"
    },
    {
      "cell_type": "code",
      "metadata": {
        "id": "gpmV4aCjtP8N"
      },
      "source": [
        "# TODO: Explore DataFrame using head, tail, info, describe, shape, columns, dtypes"
      ],
      "outputs": [],
      "execution_count": null,
      "id": "gpmV4aCjtP8N"
    },
    {
      "cell_type": "markdown",
      "metadata": {
        "id": "flG5c4EntP8O"
      },
      "source": [
        "## 3. Selecting & Indexing Data"
      ],
      "id": "flG5c4EntP8O"
    },
    {
      "cell_type": "code",
      "metadata": {
        "id": "nnXp-7mrtP8Q"
      },
      "source": [
        "# TODO: Select columns, rows by label and position using loc and iloc\n",
        "# TODO: Apply boolean indexing"
      ],
      "outputs": [],
      "execution_count": null,
      "id": "nnXp-7mrtP8Q"
    },
    {
      "cell_type": "markdown",
      "metadata": {
        "id": "1Lv_JwGRtP8R"
      },
      "source": [
        "## 4. Modifying & Creating Columns"
      ],
      "id": "1Lv_JwGRtP8R"
    },
    {
      "cell_type": "code",
      "metadata": {
        "id": "-TQVBwWDtP8S"
      },
      "source": [
        "# TODO: Create new columns, rename, and drop columns"
      ],
      "outputs": [],
      "execution_count": null,
      "id": "-TQVBwWDtP8S"
    },
    {
      "cell_type": "markdown",
      "metadata": {
        "id": "ZPeMiYkJtP8U"
      },
      "source": [
        "## 5. Handling Missing Data"
      ],
      "id": "ZPeMiYkJtP8U"
    },
    {
      "cell_type": "code",
      "metadata": {
        "id": "3zTYaT2RtP8U"
      },
      "source": [
        "# TODO: Detect, fill, or drop missing values using isna, fillna, dropna"
      ],
      "outputs": [],
      "execution_count": null,
      "id": "3zTYaT2RtP8U"
    },
    {
      "cell_type": "markdown",
      "metadata": {
        "id": "DE7M_dBHtP8V"
      },
      "source": [
        "## 6. Filtering & Conditional Operations"
      ],
      "id": "DE7M_dBHtP8V"
    },
    {
      "cell_type": "code",
      "metadata": {
        "id": "966YNKFKtP8V"
      },
      "source": [
        "# TODO: Filter rows using conditions, isin, between, query"
      ],
      "outputs": [],
      "execution_count": null,
      "id": "966YNKFKtP8V"
    },
    {
      "cell_type": "markdown",
      "metadata": {
        "id": "YJPQbVmAtP8W"
      },
      "source": [
        "## 7. Aggregation & Grouping"
      ],
      "id": "YJPQbVmAtP8W"
    },
    {
      "cell_type": "code",
      "metadata": {
        "id": "Hi402aWntP8Z"
      },
      "source": [
        "# TODO: Group data by columns and apply aggregations like mean, sum, count"
      ],
      "outputs": [],
      "execution_count": null,
      "id": "Hi402aWntP8Z"
    },
    {
      "cell_type": "markdown",
      "metadata": {
        "id": "ropQHYPFtP8Z"
      },
      "source": [
        "## 8. Sorting & Ranking"
      ],
      "id": "ropQHYPFtP8Z"
    },
    {
      "cell_type": "code",
      "metadata": {
        "id": "dKPVN7IutP8a"
      },
      "source": [
        "# TODO: Sort data by values, index and apply ranking"
      ],
      "outputs": [],
      "execution_count": null,
      "id": "dKPVN7IutP8a"
    },
    {
      "cell_type": "markdown",
      "metadata": {
        "id": "P7ktflmVtP8a"
      },
      "source": [
        "## 9. Merging & Joining"
      ],
      "id": "P7ktflmVtP8a"
    },
    {
      "cell_type": "code",
      "metadata": {
        "id": "VPLy5cwMtP8a"
      },
      "source": [
        "# TODO: Merge, concatenate and join DataFrames"
      ],
      "outputs": [],
      "execution_count": null,
      "id": "VPLy5cwMtP8a"
    },
    {
      "cell_type": "markdown",
      "metadata": {
        "id": "Foy4d2yTtP8b"
      },
      "source": [
        "## 10. Reshaping & Pivoting"
      ],
      "id": "Foy4d2yTtP8b"
    },
    {
      "cell_type": "code",
      "metadata": {
        "id": "uVCSo0dAtP8b"
      },
      "source": [
        "# TODO: Pivot, pivot_table, melt, stack, unstack"
      ],
      "outputs": [],
      "execution_count": null,
      "id": "uVCSo0dAtP8b"
    },
    {
      "cell_type": "markdown",
      "metadata": {
        "id": "qEdPoyBktP8c"
      },
      "source": [
        "## 11. String Operations"
      ],
      "id": "qEdPoyBktP8c"
    },
    {
      "cell_type": "code",
      "metadata": {
        "id": "FAGGvCBEtP8c"
      },
      "source": [
        "# TODO: Apply string methods (contains, split, replace, lower, upper)"
      ],
      "outputs": [],
      "execution_count": null,
      "id": "FAGGvCBEtP8c"
    },
    {
      "cell_type": "markdown",
      "metadata": {
        "id": "xroQOaugtP8c"
      },
      "source": [
        "## 12. Date & Time Operations"
      ],
      "id": "xroQOaugtP8c"
    },
    {
      "cell_type": "code",
      "metadata": {
        "id": "-drKiDibtP8d"
      },
      "source": [
        "# TODO: Convert columns to datetime, extract year/month/day, filter by date range"
      ],
      "outputs": [],
      "execution_count": null,
      "id": "-drKiDibtP8d"
    },
    {
      "cell_type": "markdown",
      "metadata": {
        "id": "7tIiUnEFtP8d"
      },
      "source": [
        "## 13. Exporting Data"
      ],
      "id": "7tIiUnEFtP8d"
    },
    {
      "cell_type": "code",
      "metadata": {
        "id": "XvMP596wtP8e"
      },
      "source": [
        "# TODO: Export DataFrame to CSV, Excel, JSON, SQL"
      ],
      "outputs": [],
      "execution_count": null,
      "id": "XvMP596wtP8e"
    }
  ],
  "metadata": {
    "kernelspec": {
      "display_name": "Python 3",
      "language": "python",
      "name": "python3"
    },
    "language_info": {
      "name": "python",
      "version": "3.x"
    },
    "colab": {
      "provenance": [],
      "toc_visible": true,
      "include_colab_link": true
    }
  },
  "nbformat": 4,
  "nbformat_minor": 5
}